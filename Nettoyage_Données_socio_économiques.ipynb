{
  "nbformat": 4,
  "nbformat_minor": 0,
  "metadata": {
    "colab": {
      "provenance": [],
      "authorship_tag": "ABX9TyPMMnCLOwnOn0TBh125eiDj",
      "include_colab_link": true
    },
    "kernelspec": {
      "name": "python3",
      "display_name": "Python 3"
    },
    "language_info": {
      "name": "python"
    }
  },
  "cells": [
    {
      "cell_type": "markdown",
      "metadata": {
        "id": "view-in-github",
        "colab_type": "text"
      },
      "source": [
        "<a href=\"https://colab.research.google.com/github/Cylia-845/Exercice2_Data_Mining/blob/main/Nettoyage_Donn%C3%A9es_socio_%C3%A9conomiques.ipynb\" target=\"_parent\"><img src=\"https://colab.research.google.com/assets/colab-badge.svg\" alt=\"Open In Colab\"/></a>"
      ]
    },
    {
      "cell_type": "markdown",
      "source": [
        "Code pour nettoyer les autres jeux de données socio-économiques\n"
      ],
      "metadata": {
        "id": "7vAYXl9HW8X1"
      }
    },
    {
      "cell_type": "code",
      "execution_count": null,
      "metadata": {
        "id": "KbnkhLD0W1Yn"
      },
      "outputs": [],
      "source": [
        "import pandas as pd\n",
        "\n",
        "# Liste des fichiers à nettoyer\n",
        "file_paths = {\n",
        "    \"caracteristiques\": \"/mnt/data/caractéristiques.csv\",\n",
        "    \"insertion_professionnelle\": \"/mnt/data/fr-esr-insertion_professionnelle-master.csv\",\n",
        "    \"besoins_main_oeuvre\": \"/mnt/data/Besoins en Main-d’Œuvre_Nombre de projets de recrutement en 2022 par Département.csv\",\n",
        "    \"valeurs_trimestrielles\": \"/mnt/data/valeurs_trimestrielles.csv\",\n",
        "    \"chomage\": \"/mnt/data/2024T3_sl_chomage.xlsx\",\n",
        "    \"indicateurs\": \"/mnt/data/2024T3_sl_indicateurs.xlsx\",\n",
        "    \"caracteristiques_2022\": \"/mnt/data/carcteristiques-2022.csv\",\n",
        "    \"interventions\": \"/mnt/data/interventions2022.csv\"\n",
        "}\n",
        "\n",
        "# Dictionnaire pour stocker les DataFrames nettoyés\n",
        "cleaned_dataframes = {}\n",
        "\n",
        "# Fonction pour nettoyer un DataFrame\n",
        "def clean_dataframe(df):\n",
        "    # Supprimer les doublons\n",
        "    df = df.drop_duplicates()\n",
        "\n",
        "    # Remplacer les valeurs manquantes par la moyenne pour les colonnes numériques\n",
        "    for col in df.select_dtypes(include=['number']).columns:\n",
        "        df[col].fillna(df[col].mean(), inplace=True)\n",
        "\n",
        "    # Convertir les colonnes de pourcentage en nombres décimaux si nécessaire\n",
        "    for col in df.columns:\n",
        "        if df[col].dtype == 'object' and df[col].str.contains('%', na=False).any():\n",
        "            df[col] = df[col].str.replace('%', '').str.replace(',', '.').astype(float) / 100\n",
        "\n",
        "    return df\n",
        "\n",
        "# Charger et nettoyer les fichiers\n",
        "for name, path in file_paths.items():\n",
        "    try:\n",
        "        # Détection du séparateur pour les fichiers CSV\n",
        "        if path.endswith('.csv'):\n",
        "            df = pd.read_csv(path, encoding=\"utf-8\", sep=None, engine='python', low_memory=False)\n",
        "        elif path.endswith('.xlsx'):\n",
        "            df = pd.read_excel(path)\n",
        "        else:\n",
        "            continue\n",
        "\n",
        "        # Nettoyage des données\n",
        "        df_cleaned = clean_dataframe(df)\n",
        "\n",
        "        # Sauvegarde des fichiers nettoyés\n",
        "        output_path = f\"/mnt/data/{name}_nettoye.csv\"\n",
        "        df_cleaned.to_csv(output_path, index=False, encoding=\"utf-8\")\n",
        "\n",
        "        # Stockage des fichiers nettoyés\n",
        "        cleaned_dataframes[name] = output_path\n",
        "\n",
        "    except Exception as e:\n",
        "        cleaned_dataframes[name] = f\"Erreur lors du chargement : {e}\"\n",
        "\n",
        "# Affichage des fichiers nettoyés\n",
        "for name, path in cleaned_dataframes.items():\n",
        "    print(f\"{name} → {path}\")"
      ]
    }
  ]
}